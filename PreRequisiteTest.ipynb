{
  "nbformat": 4,
  "nbformat_minor": 0,
  "metadata": {
    "colab": {
      "provenance": []
    },
    "kernelspec": {
      "name": "python3",
      "display_name": "Python 3"
    },
    "language_info": {
      "name": "python"
    }
  },
  "cells": [
    {
      "cell_type": "markdown",
      "source": [
        "# ES 654 PreRequisite Test Solutions [Jinay Dagli: 20110084]"
      ],
      "metadata": {
        "id": "3Gy_BxSml7ql"
      }
    },
    {
      "cell_type": "code",
      "source": [
        "# Kindly run this cell to import all the important and required libraries\n",
        "import numpy as np\n",
        "import time\n",
        "from jax import grad\n",
        "import jax.numpy as jnp\n",
        "from sympy.vector import gradient\n",
        "import sympy\n",
        "import numpy as np\n",
        "import matplotlib.pyplot as plt\n",
        "import pandas as pd\n"
      ],
      "metadata": {
        "id": "nPOL_pYz5Hbt"
      },
      "execution_count": 63,
      "outputs": []
    },
    {
      "cell_type": "markdown",
      "source": [
        "**Question 1**"
      ],
      "metadata": {
        "id": "iWcuha4ymJ4S"
      }
    },
    {
      "cell_type": "markdown",
      "source": [
        "We know that a matrix of shape (n,k) when multiplied with a matrix of shape (k,m) results into an output matrix of shape (n, m). The row-elements of the former matrix are multiplied with the corresponding column elements of the latter matrix, hence resulting in knm number of multiplications [since there are nm number of total elements], and hence (k-1)nm number of additions."
      ],
      "metadata": {
        "id": "QF7X0lFNmMLb"
      }
    },
    {
      "cell_type": "markdown",
      "source": [
        "**Question 2**"
      ],
      "metadata": {
        "id": "VheQA0oNxDYt"
      }
    },
    {
      "cell_type": "markdown",
      "source": [
        "*Using list of lists* "
      ],
      "metadata": {
        "id": "QYPbs9JjxHqD"
      }
    },
    {
      "cell_type": "code",
      "source": [
        "z = (input(\"Enter n,k,m values WITHOUT commas: \").split()) # # Enter the sizes of matrices without commas.\n",
        "start = time.time() # For timing\n",
        "n = int(z[0])\n",
        "k = int(z[1])\n",
        "m = int(z[2])\n",
        "A = []\n",
        "B = []\n",
        "C = np.zeros((n,m)) # # Initialising the C matrix\n",
        "A = np.random.randint(25, size=(n,k)) # # Matrices A and B filled with random integers lesser than 25!\n",
        "B = np.random.randint(25, size=(k,m))\n",
        "print(f'Matrix A:\\n {A}')\n",
        "print(f'Matrix B:\\n {B}')\n",
        "for i in range(n):\n",
        "  for j in range(m):\n",
        "    for l in range(k):\n",
        "      C[i][j] += A[i][l] * B[l][j] # # The required Matrix multiplication\n",
        "print(f\"Resultant matrix C is:\\n {C}\")\n",
        "end = time.time()\n",
        "print(f\"Time required by the code: {end-start}\") # # The time required\n",
        "  \n"
      ],
      "metadata": {
        "colab": {
          "base_uri": "https://localhost:8080/"
        },
        "id": "E01l0O3RxStE",
        "outputId": "23487e2e-f673-4bdc-889d-0f061f0b8bfb"
      },
      "execution_count": 66,
      "outputs": [
        {
          "output_type": "stream",
          "name": "stdout",
          "text": [
            "Enter n,k,m values WITHOUT commas: 4 4 4\n",
            "Matrix A:\n",
            " [[23 18 23 22]\n",
            " [17  1 10 24]\n",
            " [19  9  0  3]\n",
            " [ 2  1  1 17]]\n",
            "Matrix B:\n",
            " [[21  5 13 15]\n",
            " [19 22 19 14]\n",
            " [ 6 10  9 15]\n",
            " [ 4 18 19 13]]\n",
            "Resultant matrix C is:\n",
            " [[1051. 1137. 1266. 1228.]\n",
            " [ 532.  639.  786.  731.]\n",
            " [ 582.  347.  475.  450.]\n",
            " [ 135.  348.  377.  280.]]\n",
            "Time required by the code: 0.0049130916595458984\n"
          ]
        }
      ]
    },
    {
      "cell_type": "markdown",
      "source": [
        "*Using numpy*"
      ],
      "metadata": {
        "id": "I3m10xXT6Pdq"
      }
    },
    {
      "cell_type": "code",
      "execution_count": 67,
      "metadata": {
        "id": "JbMDvuYHhv0c",
        "colab": {
          "base_uri": "https://localhost:8080/"
        },
        "outputId": "d6071bba-2fa7-489e-b2a2-479ab9c1ac41"
      },
      "outputs": [
        {
          "output_type": "stream",
          "name": "stdout",
          "text": [
            "Enter n,k,m values without commas: 4 4 4\n",
            "Matrix A:\n",
            " [[20  5 10  4]\n",
            " [ 7 18  0  7]\n",
            " [16 18  2  6]\n",
            " [ 9  9 20 20]]\n",
            "Matrix B:\n",
            " [[17  3  9  8]\n",
            " [ 1  5  7 19]\n",
            " [15 10 23 18]\n",
            " [ 0 12  1  8]]\n",
            "Resultant matrix C is:\n",
            " [[495 233 449 467]\n",
            " [137 195 196 454]\n",
            " [320 230 322 554]\n",
            " [462 512 624 763]]\n",
            "Time required by the code: 0.0042607784271240234\n"
          ]
        }
      ],
      "source": [
        "z = (input(\"Enter n,k,m values without commas: \").split()) # # Enter the sizes of matrices without commas.\n",
        "start = time.time() # For timing\n",
        "n = int(z[0])\n",
        "k = int(z[1])\n",
        "m = int(z[2])\n",
        "A = []\n",
        "B = []\n",
        "C = np.zeros((n,m)) # # Initialising the C matrix\n",
        "A = np.random.randint(25, size=(n,k)) # # Matrices A and B filled with random integers lesser than 25!\n",
        "B = np.random.randint(25, size=(k,m))\n",
        "print(f'Matrix A:\\n {A}')\n",
        "print(f'Matrix B:\\n {B}')\n",
        "C = np.dot(A,B)\n",
        "print(f\"Resultant matrix C is:\\n {C}\")\n",
        "end = time.time()\n",
        "print(f\"Time required by the code: {end-start}\") # # The time required"
      ]
    },
    {
      "cell_type": "markdown",
      "source": [
        "*Final Solution: (Comparing both the approaches)*"
      ],
      "metadata": {
        "id": "f9Ki1EFVLqYl"
      }
    },
    {
      "cell_type": "code",
      "source": [
        "time_lists = 0 # # Variables to save the timings for the two approaches\n",
        "time_act = 0\n",
        "def dotpro_lists(A, B, C, n, k, m): # # Function for the lists approach\n",
        "  start = time.time()\n",
        "  for i in range(n):\n",
        "    for j in range(m):\n",
        "      for l in range(k):\n",
        "        C[i][j] += A[i][l] * B[l][j]\n",
        "  # print(f\"Resultant matrix C is:\\n {C}\")\n",
        "  end = time.time()\n",
        "  # print(f\"Time required by the code: {end-start}\")\n",
        "  return (end-start) \n",
        "\n",
        "def dotpro_inbuilt(A, B, C, n, k, m): # # Function for the in-built matrix mutliplication\n",
        "  start = time.time()\n",
        "  C = np.dot(A,B)\n",
        "  # print(f\"Resultant matrix C is:\\n {C}\")\n",
        "  end = time.time()\n",
        "  # print(f\"Time required by the code: {end-start}\")\n",
        "  return (end-start)\n",
        "\n",
        "z = (input(\"Enter n,k,m values without commas: \").split()) # # Enter the sizes of matrices without commas.\n",
        "n = int(z[0])\n",
        "k = int(z[1])\n",
        "m = int(z[2])\n",
        "A = []\n",
        "B = []\n",
        "C = np.zeros((n,m))\n",
        "A = np.random.randint(25, size=(n,k))\n",
        "B = np.random.randint(25, size=(k,m))\n",
        "\n",
        "time_lists = 0\n",
        "time_act = 0\n",
        "for i in range(1000):\n",
        "  time_lists += dotpro_lists(A,B,C,n,k,m)\n",
        "  # print(time_lists)\n",
        "  time_act += dotpro_inbuilt(A,B,C,n,k,m)\n",
        "print(f\"Time required by code when using lists: {time_lists/1000}\")\n",
        "print(f\"Time required by code when using numpy: {time_act/1000}\")"
      ],
      "metadata": {
        "colab": {
          "base_uri": "https://localhost:8080/"
        },
        "id": "hdt6MvNEICbm",
        "outputId": "53a11a1b-b1b3-4492-91a3-b0fe265d44cd"
      },
      "execution_count": 68,
      "outputs": [
        {
          "output_type": "stream",
          "name": "stdout",
          "text": [
            "Enter n,k,m values without commas: 4 4 4\n",
            "Time required by code when using lists: 7.714033126831055e-05\n",
            "Time required by code when using numpy: 2.410888671875e-06\n"
          ]
        }
      ]
    },
    {
      "cell_type": "markdown",
      "source": [
        "**Question 3**"
      ],
      "metadata": {
        "id": "a3aqkRAo65PK"
      }
    },
    {
      "cell_type": "markdown",
      "source": [
        "If the given algorithm is followed, we know that we would find the median of the array after $n^2/2$ passes through the array, that is, O($n^2$). Another efficient way to find the median is to sort the array (sorting is O(nlog(n)))."
      ],
      "metadata": {
        "id": "jRRyRjas69os"
      }
    },
    {
      "cell_type": "code",
      "source": [
        "n = int(input(\"Enter the size of the array:\")) # # Declaring the size of the array\n",
        "A = []\n",
        "# print(A)\n",
        "\n",
        "# # Defining the function for calculation of in-built median\n",
        "def inbuilt_med(A):\n",
        "  start = time.time()     # # O(n)\n",
        "  # print(np.median(A))\n",
        "  end = time.time()\n",
        "  return (end-start)\n",
        "\n",
        "# # Defining the function for calculating the median using given algorithm\n",
        "def given_med(A):\n",
        "  start = time.time()\n",
        "  B = list(A)             # # O(n^2)\n",
        "  J = []\n",
        "  if(n%2 == 1):\n",
        "    while(len(B)>n//2):\n",
        "      j = 0\n",
        "      for i in B:\n",
        "        if(i>j):\n",
        "          j = i\n",
        "      B.remove(j)\n",
        "      J.append(j)\n",
        "    med = J[-1]\n",
        "\n",
        "  else:\n",
        "    while(len(B)>=n/2):\n",
        "      j = 0\n",
        "      for i in B:\n",
        "        if(i>j):\n",
        "          j = i\n",
        "      B.remove(j)\n",
        "      J.append(j)\n",
        "    med = (J[-1]+J[-2])/2\n",
        "  end = time.time()\n",
        "  return (end-start)\n",
        "\n",
        "# # Defining the function for finding median using sorting\n",
        "def sort_med(A):\n",
        "  start = time.time()\n",
        "  A.sort()        # # O(nlogn)\n",
        "  end = time.time()\n",
        "  return (end-start)\n",
        "\n",
        "time_inb = 0\n",
        "time_given = 0\n",
        "time_sort = 0\n",
        "for i in range(1000):\n",
        "  A = np.random.randint(25,size=(n)) \n",
        "  time_inb += inbuilt_med(A)\n",
        "  time_given += given_med(A)\n",
        "  time_sort += sort_med(A)\n",
        "\n",
        "print(f\"Time for in-built median function: {time_inb/1000}\")\n",
        "print(f\"Time for median using given algo: {time_given/1000}\")\n",
        "print(f\"Time for median function using sorting algo: {time_sort/1000}\")\n"
      ],
      "metadata": {
        "colab": {
          "base_uri": "https://localhost:8080/"
        },
        "id": "2K8ySY7cHkNV",
        "outputId": "677011d2-d224-42db-b6c4-535f4a8ced45"
      },
      "execution_count": 69,
      "outputs": [
        {
          "output_type": "stream",
          "name": "stdout",
          "text": [
            "Enter the size of the array:5\n",
            "Time for in-built median function: 1.6641616821289061e-07\n",
            "Time for median using given algo: 5.397796630859375e-06\n",
            "Time for median function using sorting algo: 8.828639984130859e-07\n"
          ]
        }
      ]
    },
    {
      "cell_type": "markdown",
      "source": [
        "**Question 4**"
      ],
      "metadata": {
        "id": "JpA7PeHZ73lk"
      }
    },
    {
      "cell_type": "markdown",
      "source": [
        "We know that the gradient of a function f with respect to x is given by $\\frac{\\partial{f}}{\\partial{x}}$. Hence, the gradient of the given function would be:\n",
        "\n",
        "*with respect to x:* $2xy + y^3cos(x)$.\n",
        "\n",
        "*with respect to y:* $x^2 + 3y^2sin(x)$."
      ],
      "metadata": {
        "id": "QkI16tAl78GU"
      }
    },
    {
      "cell_type": "markdown",
      "source": [
        "**Question 5**"
      ],
      "metadata": {
        "id": "FJ0DLy0DeVpl"
      }
    },
    {
      "cell_type": "code",
      "source": [
        "def f(x,y):\n",
        "  return (x**2)*y + (y**3)*jnp.sin(x) # # The given function\n",
        "\n",
        "x = [1.0, 2.0, 3.0, 4.0, 5.0]\n",
        "y = [1.0, 2.0, 3.0, 4.0, 5.0] # # Checking the gradient for some random values of x and y\n",
        "df_dxy = grad(f)\n",
        "d = []\n",
        "for i in x:\n",
        "  for j in y:\n",
        "    d.append(df_dxy(i,j))\n",
        "\n",
        "print(d)"
      ],
      "metadata": {
        "colab": {
          "base_uri": "https://localhost:8080/"
        },
        "id": "TTAfzveyeZIo",
        "outputId": "77110720-2131-4478-c549-7a76dda0a8c2"
      },
      "execution_count": 70,
      "outputs": [
        {
          "output_type": "stream",
          "name": "stdout",
          "text": [
            "[DeviceArray(2.5403023, dtype=float32, weak_type=True), DeviceArray(8.322418, dtype=float32, weak_type=True), DeviceArray(20.588161, dtype=float32, weak_type=True), DeviceArray(42.579346, dtype=float32, weak_type=True), DeviceArray(77.53778, dtype=float32, weak_type=True), DeviceArray(3.5838532, dtype=float32, weak_type=True), DeviceArray(4.670825, dtype=float32, weak_type=True), DeviceArray(0.7640352, dtype=float32, weak_type=True), DeviceArray(-10.633398, dtype=float32, weak_type=True), DeviceArray(-32.018356, dtype=float32, weak_type=True), DeviceArray(5.0100074, dtype=float32, weak_type=True), DeviceArray(4.08006, dtype=float32, weak_type=True), DeviceArray(-8.729797, dtype=float32, weak_type=True), DeviceArray(-39.35952, dtype=float32, weak_type=True), DeviceArray(-93.74906, dtype=float32, weak_type=True), DeviceArray(7.3463564, dtype=float32, weak_type=True), DeviceArray(10.770851, dtype=float32, weak_type=True), DeviceArray(6.3516235, dtype=float32, weak_type=True), DeviceArray(-9.833191, dtype=float32, weak_type=True), DeviceArray(-41.705452, dtype=float32, weak_type=True), DeviceArray(10.283662, dtype=float32, weak_type=True), DeviceArray(22.269299, dtype=float32, weak_type=True), DeviceArray(37.65888, dtype=float32, weak_type=True), DeviceArray(58.15438, dtype=float32, weak_type=True), DeviceArray(85.45778, dtype=float32, weak_type=True)]\n"
          ]
        }
      ]
    },
    {
      "cell_type": "markdown",
      "source": [
        "**Question 6**"
      ],
      "metadata": {
        "id": "AuWOgoXHDNWi"
      }
    },
    {
      "cell_type": "code",
      "source": [
        "x,y = sympy.symbols('x, y') # # Declaring the sympy symbols\n",
        "f = (x**2)*y + (y**3)*sympy.sin(x)\n",
        "for i in [x,y]:\n",
        "  print(sympy.simplify(f.diff(i))) # # Partial derivatives (or gradients) using sympy"
      ],
      "metadata": {
        "colab": {
          "base_uri": "https://localhost:8080/"
        },
        "id": "R-FQh1EaqZ2R",
        "outputId": "ab500beb-9b93-4a56-cf55-57cbd4560c1c"
      },
      "execution_count": 71,
      "outputs": [
        {
          "output_type": "stream",
          "name": "stdout",
          "text": [
            "y*(2*x + y**2*cos(x))\n",
            "x**2 + 3*y**2*sin(x)\n"
          ]
        }
      ]
    },
    {
      "cell_type": "markdown",
      "source": [
        "**Question 7**"
      ],
      "metadata": {
        "id": "pJdSHw9eDy9j"
      }
    },
    {
      "cell_type": "code",
      "source": [
        "# # The data shown in the question can be represented as follows:\n",
        "master_dict = {\n",
        "    \"2022\":{\n",
        "        \"Branch 1\": {\n",
        "            \"Roll No.\": [], \"Name\": [], \"Marks\":{\n",
        "                \"Maths\": \"x\", \"English\": \"y\"\n",
        "            } \n",
        "        },\n",
        "        \"Branch 2\":{}\n",
        "    },\n",
        "    \"2023\":{\"Branch 1\": {},\n",
        "        \"Branch 2\":{}\n",
        "    },\n",
        "    \"2024\":{\"Branch 1\": {},\n",
        "        \"Branch 2\":{}\n",
        "    },\n",
        "    \"2025\":{\"Branch 1\": {},\n",
        "        \"Branch 2\":{}\n",
        "    }\n",
        "}\n",
        "\n",
        "print(master_dict)"
      ],
      "metadata": {
        "colab": {
          "base_uri": "https://localhost:8080/"
        },
        "id": "fpsERrjZD16F",
        "outputId": "ee8cbae7-a35d-49b0-b9e5-428b6d260314"
      },
      "execution_count": 72,
      "outputs": [
        {
          "output_type": "stream",
          "name": "stdout",
          "text": [
            "{'2022': {'Branch 1': {'Roll No.': [], 'Name': [], 'Marks': {'Maths': 'x', 'English': 'y'}}, 'Branch 2': {}}, '2023': {'Branch 1': {}, 'Branch 2': {}}, '2024': {'Branch 1': {}, 'Branch 2': {}}, '2025': {'Branch 1': {}, 'Branch 2': {}}}\n"
          ]
        }
      ]
    },
    {
      "cell_type": "markdown",
      "source": [
        "**Question 8**"
      ],
      "metadata": {
        "id": "SglA1QY4KiBx"
      }
    },
    {
      "cell_type": "code",
      "source": [
        "class Overall: # # The main database (containing the sub-databases)\n",
        "  def __init__(self, year):\n",
        "    self.year = year\n",
        "\n",
        "class Year: # # The database of Years containing the Branches\n",
        "  def __init__(self, branches):\n",
        "    self.branches = branches\n",
        "\n",
        "class Branch: # # The database of branches, each having a name and the students\n",
        "  def __init__(self, name, students):\n",
        "    self.name = name\n",
        "    self.students = students\n",
        "\n",
        "class Student: # # The database of each student containing the name, roll number and marks\n",
        "  def __init__(self, name, roll, marks):\n",
        "    self.name = name\n",
        "    self.roll = roll\n",
        "    self.marks = marks\n"
      ],
      "metadata": {
        "id": "mMEwcqfaKgnb"
      },
      "execution_count": 73,
      "outputs": []
    },
    {
      "cell_type": "markdown",
      "source": [
        "**Question 9**"
      ],
      "metadata": {
        "id": "SLkMWSyvEXSr"
      }
    },
    {
      "cell_type": "code",
      "source": [
        "x = np.arange(0.5, 100, 0.5) # # Specifying the given range and steps\n",
        "y = [0]*7\n",
        "y[0] = x\n",
        "y[1] = np.power(x,2)\n",
        "y[2] = np.divide(np.power(x,3),100)\n",
        "y[3] = np.sin(x)\n",
        "y[4] = np.divide(np.sin(x),x)\n",
        "y[5] = np.log(x)\n",
        "y[6] = np.exp(x)\n",
        "plt.figure(figsize=(15, 15))\n",
        "for i in range(1,8): # # Plotting all as sub-plots at once!\n",
        "  plt.subplot(2,4,i)\n",
        "  plt.plot(x, y[i-1])\n",
        "  plt.title(f\"Part {i}\")\n",
        "plt.show()"
      ],
      "metadata": {
        "id": "ftVOYkqADyLR",
        "colab": {
          "base_uri": "https://localhost:8080/",
          "height": 879
        },
        "outputId": "08051ecc-bdf6-4010-b2d0-8e58c09293a3"
      },
      "execution_count": 74,
      "outputs": [
        {
          "output_type": "display_data",
          "data": {
            "text/plain": [
              "<Figure size 1080x1080 with 7 Axes>"
            ],
            "image/png": "[encoded data removed]"
          },
          "metadata": {
            "needs_background": "light"
          }
        }
      ]
    },
    {
      "cell_type": "markdown",
      "source": [
        "**Question 10**"
      ],
      "metadata": {
        "id": "h6SvpX6OsjHL"
      }
    },
    {
      "cell_type": "code",
      "source": [
        "A = np.random.uniform(low = 1, high = 2, size = (20, 5))\n",
        "print(A) # # Forming the uniformly-distributed elements containing matrix"
      ],
      "metadata": {
        "colab": {
          "base_uri": "https://localhost:8080/"
        },
        "id": "ExJsmuxPnwE0",
        "outputId": "90e5a164-820b-4177-8d39-1cf90326900c"
      },
      "execution_count": 75,
      "outputs": [
        {
          "output_type": "stream",
          "name": "stdout",
          "text": [
            "[[1.79349655 1.82605772 1.31650418 1.18654446 1.51040363]\n",
            " [1.76174236 1.9839186  1.74844608 1.73224365 1.63351765]\n",
            " [1.34595786 1.77056168 1.3533776  1.03896889 1.3080707 ]\n",
            " [1.33580622 1.89750612 1.6182936  1.27099544 1.1395356 ]\n",
            " [1.69760664 1.11520402 1.43668532 1.44576816 1.95011997]\n",
            " [1.64088668 1.96085856 1.37351652 1.26275633 1.36228125]\n",
            " [1.7140414  1.26166898 1.49569684 1.65038069 1.68319399]\n",
            " [1.94319344 1.08466385 1.06461499 1.50759923 1.66593671]\n",
            " [1.65032422 1.65420569 1.14691786 1.73717238 1.14674201]\n",
            " [1.98530465 1.86884606 1.64973245 1.86689053 1.83975745]\n",
            " [1.25992707 1.88586601 1.11765099 1.06806986 1.49960538]\n",
            " [1.88272352 1.88659487 1.18329861 1.48363603 1.96196233]\n",
            " [1.51341663 1.58802948 1.77130677 1.08867672 1.30842374]\n",
            " [1.10771063 1.31026741 1.90849484 1.20462689 1.80792278]\n",
            " [1.71652534 1.46707677 1.03085804 1.68115843 1.35212306]\n",
            " [1.69325411 1.51063893 1.21299504 1.67478305 1.84788981]\n",
            " [1.88844471 1.21017408 1.87122105 1.22659525 1.3971444 ]\n",
            " [1.72218881 1.22956537 1.95707832 1.96759891 1.0879986 ]\n",
            " [1.06086155 1.08257955 1.34679224 1.88420618 1.2968995 ]\n",
            " [1.79822361 1.96445059 1.58661033 1.30509415 1.85072709]]\n"
          ]
        }
      ]
    },
    {
      "cell_type": "code",
      "source": [
        "df = pd.DataFrame(data = A, columns = ['a', 'b', 'c', 'd', 'e'])\n",
        "print(df) # # Creating the dataframe"
      ],
      "metadata": {
        "colab": {
          "base_uri": "https://localhost:8080/"
        },
        "id": "g4N1puzgtJyp",
        "outputId": "61a0a1cb-a2e1-4d30-95e6-6a289dc4489c"
      },
      "execution_count": 76,
      "outputs": [
        {
          "output_type": "stream",
          "name": "stdout",
          "text": [
            "           a         b         c         d         e\n",
            "0   1.793497  1.826058  1.316504  1.186544  1.510404\n",
            "1   1.761742  1.983919  1.748446  1.732244  1.633518\n",
            "2   1.345958  1.770562  1.353378  1.038969  1.308071\n",
            "3   1.335806  1.897506  1.618294  1.270995  1.139536\n",
            "4   1.697607  1.115204  1.436685  1.445768  1.950120\n",
            "5   1.640887  1.960859  1.373517  1.262756  1.362281\n",
            "6   1.714041  1.261669  1.495697  1.650381  1.683194\n",
            "7   1.943193  1.084664  1.064615  1.507599  1.665937\n",
            "8   1.650324  1.654206  1.146918  1.737172  1.146742\n",
            "9   1.985305  1.868846  1.649732  1.866891  1.839757\n",
            "10  1.259927  1.885866  1.117651  1.068070  1.499605\n",
            "11  1.882724  1.886595  1.183299  1.483636  1.961962\n",
            "12  1.513417  1.588029  1.771307  1.088677  1.308424\n",
            "13  1.107711  1.310267  1.908495  1.204627  1.807923\n",
            "14  1.716525  1.467077  1.030858  1.681158  1.352123\n",
            "15  1.693254  1.510639  1.212995  1.674783  1.847890\n",
            "16  1.888445  1.210174  1.871221  1.226595  1.397144\n",
            "17  1.722189  1.229565  1.957078  1.967599  1.087999\n",
            "18  1.060862  1.082580  1.346792  1.884206  1.296900\n",
            "19  1.798224  1.964451  1.586610  1.305094  1.850727\n"
          ]
        }
      ]
    },
    {
      "cell_type": "code",
      "source": [
        "columns = ['a', 'b', 'c', 'd', 'e']\n",
        "col = ''\n",
        "stddev= 0\n",
        "for i in columns:\n",
        "  if(df[i].std()>stddev):\n",
        "    stddev = df[i].std()\n",
        "    col = i\n",
        "print(col)  # # Prints the column with the highest standard deviation"
      ],
      "metadata": {
        "colab": {
          "base_uri": "https://localhost:8080/"
        },
        "id": "CvQM2xVYuxw1",
        "outputId": "2ffd3d50-c5ea-443b-a420-47588f18ccf3"
      },
      "execution_count": 77,
      "outputs": [
        {
          "output_type": "stream",
          "name": "stdout",
          "text": [
            "b\n"
          ]
        }
      ]
    },
    {
      "cell_type": "code",
      "source": [
        "df['Mean'] = df[['a', 'b', 'c', 'd', 'e']].mean(axis=1)\n",
        "# print(df['Mean'])\n",
        "index = df['Mean'].idxmin()\n",
        "print(f'Index of row with minimum mean: {index}') # # Prints the row with minimum mean"
      ],
      "metadata": {
        "colab": {
          "base_uri": "https://localhost:8080/"
        },
        "id": "nptXjn5OxHRT",
        "outputId": "9801af01-6ebe-4798-b6b3-692c300d353e"
      },
      "execution_count": 78,
      "outputs": [
        {
          "output_type": "stream",
          "name": "stdout",
          "text": [
            "Index of row with minimum mean: 18\n"
          ]
        }
      ]
    },
    {
      "cell_type": "markdown",
      "source": [
        "**Question 11**"
      ],
      "metadata": {
        "id": "nGg-H2hb7DaH"
      }
    },
    {
      "cell_type": "code",
      "source": [
        "df['f'] = df['a'] + df['b'] + df['c']+ df['d'] + df['e'] # # Forms the required new column\n",
        "print(df)"
      ],
      "metadata": {
        "colab": {
          "base_uri": "https://localhost:8080/"
        },
        "id": "GsYEDz637GXK",
        "outputId": "8e64edc4-9b36-4ea0-a480-469bf18e55cc"
      },
      "execution_count": 79,
      "outputs": [
        {
          "output_type": "stream",
          "name": "stdout",
          "text": [
            "           a         b         c         d         e      Mean         f\n",
            "0   1.793497  1.826058  1.316504  1.186544  1.510404  1.526601  7.633007\n",
            "1   1.761742  1.983919  1.748446  1.732244  1.633518  1.771974  8.859868\n",
            "2   1.345958  1.770562  1.353378  1.038969  1.308071  1.363387  6.816937\n",
            "3   1.335806  1.897506  1.618294  1.270995  1.139536  1.452427  7.262137\n",
            "4   1.697607  1.115204  1.436685  1.445768  1.950120  1.529077  7.645384\n",
            "5   1.640887  1.960859  1.373517  1.262756  1.362281  1.520060  7.600299\n",
            "6   1.714041  1.261669  1.495697  1.650381  1.683194  1.560996  7.804982\n",
            "7   1.943193  1.084664  1.064615  1.507599  1.665937  1.453202  7.266008\n",
            "8   1.650324  1.654206  1.146918  1.737172  1.146742  1.467072  7.335362\n",
            "9   1.985305  1.868846  1.649732  1.866891  1.839757  1.842106  9.210531\n",
            "10  1.259927  1.885866  1.117651  1.068070  1.499605  1.366224  6.831119\n",
            "11  1.882724  1.886595  1.183299  1.483636  1.961962  1.679643  8.398215\n",
            "12  1.513417  1.588029  1.771307  1.088677  1.308424  1.453971  7.269853\n",
            "13  1.107711  1.310267  1.908495  1.204627  1.807923  1.467805  7.339023\n",
            "14  1.716525  1.467077  1.030858  1.681158  1.352123  1.449548  7.247742\n",
            "15  1.693254  1.510639  1.212995  1.674783  1.847890  1.587912  7.939561\n",
            "16  1.888445  1.210174  1.871221  1.226595  1.397144  1.518716  7.593579\n",
            "17  1.722189  1.229565  1.957078  1.967599  1.087999  1.592886  7.964430\n",
            "18  1.060862  1.082580  1.346792  1.884206  1.296900  1.334268  6.671339\n",
            "19  1.798224  1.964451  1.586610  1.305094  1.850727  1.701021  8.505106\n"
          ]
        }
      ]
    },
    {
      "cell_type": "code",
      "source": [
        "df['g'] = np.ndarray(shape=(20)) # # The required column g\n",
        "for i in range(20):\n",
        "  if(df.f[i]<8):\n",
        "    df.g[i] = 'LT8'\n",
        "  else:\n",
        "    df.g[i] = 'GT8'\n",
        "print(df)"
      ],
      "metadata": {
        "colab": {
          "base_uri": "https://localhost:8080/"
        },
        "id": "j82UFWEP8jJS",
        "outputId": "b0f9a3a5-2c6c-45ef-e9b2-35c12f650590"
      },
      "execution_count": 80,
      "outputs": [
        {
          "output_type": "stream",
          "name": "stdout",
          "text": [
            "           a         b         c         d         e      Mean         f    g\n",
            "0   1.793497  1.826058  1.316504  1.186544  1.510404  1.526601  7.633007  LT8\n",
            "1   1.761742  1.983919  1.748446  1.732244  1.633518  1.771974  8.859868  GT8\n",
            "2   1.345958  1.770562  1.353378  1.038969  1.308071  1.363387  6.816937  LT8\n",
            "3   1.335806  1.897506  1.618294  1.270995  1.139536  1.452427  7.262137  LT8\n",
            "4   1.697607  1.115204  1.436685  1.445768  1.950120  1.529077  7.645384  LT8\n",
            "5   1.640887  1.960859  1.373517  1.262756  1.362281  1.520060  7.600299  LT8\n",
            "6   1.714041  1.261669  1.495697  1.650381  1.683194  1.560996  7.804982  LT8\n",
            "7   1.943193  1.084664  1.064615  1.507599  1.665937  1.453202  7.266008  LT8\n",
            "8   1.650324  1.654206  1.146918  1.737172  1.146742  1.467072  7.335362  LT8\n",
            "9   1.985305  1.868846  1.649732  1.866891  1.839757  1.842106  9.210531  GT8\n",
            "10  1.259927  1.885866  1.117651  1.068070  1.499605  1.366224  6.831119  LT8\n",
            "11  1.882724  1.886595  1.183299  1.483636  1.961962  1.679643  8.398215  GT8\n",
            "12  1.513417  1.588029  1.771307  1.088677  1.308424  1.453971  7.269853  LT8\n",
            "13  1.107711  1.310267  1.908495  1.204627  1.807923  1.467805  7.339023  LT8\n",
            "14  1.716525  1.467077  1.030858  1.681158  1.352123  1.449548  7.247742  LT8\n",
            "15  1.693254  1.510639  1.212995  1.674783  1.847890  1.587912  7.939561  LT8\n",
            "16  1.888445  1.210174  1.871221  1.226595  1.397144  1.518716  7.593579  LT8\n",
            "17  1.722189  1.229565  1.957078  1.967599  1.087999  1.592886  7.964430  LT8\n",
            "18  1.060862  1.082580  1.346792  1.884206  1.296900  1.334268  6.671339  LT8\n",
            "19  1.798224  1.964451  1.586610  1.305094  1.850727  1.701021  8.505106  GT8\n"
          ]
        }
      ]
    },
    {
      "cell_type": "code",
      "source": [
        "# # Checking the number of GT8's and LT8's\n",
        "count = 0\n",
        "for i in range(20):\n",
        "  if(df.g[i] == 'LT8'):\n",
        "    count += 1\n",
        "print(f'Number of rows having the value LT8 is: {count}')"
      ],
      "metadata": {
        "colab": {
          "base_uri": "https://localhost:8080/"
        },
        "id": "FXoycqYj92Cc",
        "outputId": "f9071565-e05c-42f1-c498-4a3daaf33c13"
      },
      "execution_count": 81,
      "outputs": [
        {
          "output_type": "stream",
          "name": "stdout",
          "text": [
            "Number of rows having the value LT8 is: 16\n"
          ]
        }
      ]
    },
    {
      "cell_type": "code",
      "source": [
        "LT8 = []\n",
        "GT8 = []\n",
        "for i in range(20):\n",
        "  if(df.g[i] == 'LT8'):\n",
        "    LT8.append(i)\n",
        "  else:\n",
        "    GT8.append(i)\n",
        "print(f'Std dev for columns when value in g is LT8 is: {np.std(LT8)}') # # Standard dev of columns when g is LT8\n",
        "print(f'Std dev for columns when value in g is GT8 is: {np.std(GT8)}') # # Standard dev of columns when g is GT8\n"
      ],
      "metadata": {
        "colab": {
          "base_uri": "https://localhost:8080/"
        },
        "id": "2N5n8OQF-tXS",
        "outputId": "4fe380d3-4b26-4f0f-ea55-f68450e850e8"
      },
      "execution_count": 82,
      "outputs": [
        {
          "output_type": "stream",
          "name": "stdout",
          "text": [
            "Std dev for columns when value in g is LT8 is: 5.588772226527039\n",
            "Std dev for columns when value in g is GT8 is: 6.4031242374328485\n"
          ]
        }
      ]
    },
    {
      "cell_type": "markdown",
      "source": [
        "**Question 12**"
      ],
      "metadata": {
        "id": "plKGkn3rtrHL"
      }
    },
    {
      "cell_type": "code",
      "source": [
        "# Without broadcasting\n",
        "print('Without broadcasting:')\n",
        "A = np.array([1, 2, 3, 4])\n",
        "B = np.array([100, 100, 100, 100])\n",
        "print(f'Matrix A: {A}')\n",
        "print(f'Matrix B: {B}')\n",
        "C = A + B\n",
        "print(f'Sum matrix: {C}')\n",
        "\n",
        "print('-----------------------------')\n",
        "# With broadcasting\n",
        "print('With broadcasting:')\n",
        "A = np.array([1, 2, 3, 4])\n",
        "B = 100\n",
        "print(f'Matrix A: {A}')\n",
        "print(f'B: {B}')\n",
        "C = A + B\n",
        "print(f'Sum matrix: {C}')"
      ],
      "metadata": {
        "colab": {
          "base_uri": "https://localhost:8080/"
        },
        "id": "pHBRC6E5xy_D",
        "outputId": "fd5b2aed-0fb0-4814-f1dc-aa74e3f64c71"
      },
      "execution_count": 83,
      "outputs": [
        {
          "output_type": "stream",
          "name": "stdout",
          "text": [
            "Without broadcasting:\n",
            "Matrix A: [1 2 3 4]\n",
            "Matrix B: [100 100 100 100]\n",
            "Sum matrix: [101 102 103 104]\n",
            "-----------------------------\n",
            "With broadcasting:\n",
            "Matrix A: [1 2 3 4]\n",
            "B: 100\n",
            "Sum matrix: [101 102 103 104]\n"
          ]
        }
      ]
    },
    {
      "cell_type": "markdown",
      "source": [
        "**Question 13**"
      ],
      "metadata": {
        "id": "SsFu3YFlxC3D"
      }
    },
    {
      "cell_type": "code",
      "source": [
        "A = np.random.randint(25, size=(25)) # # Creating the random matrix\n",
        "print(A)\n",
        "temp = 25 # # Setting the temporary variable to the max possible value\n",
        "ans = 0\n",
        "for i in range(len(A)):\n",
        "  if(A[i] < temp):\n",
        "    temp = A[i]\n",
        "    ans = i\n",
        "print(f'Index of the minimum entry:{ans}') # # Defined the equivalent argmin function\n",
        "\n"
      ],
      "metadata": {
        "colab": {
          "base_uri": "https://localhost:8080/"
        },
        "id": "XbHsX9ZX2zqX",
        "outputId": "2d085216-6a05-4206-c20b-9a7a3580d4fd"
      },
      "execution_count": 84,
      "outputs": [
        {
          "output_type": "stream",
          "name": "stdout",
          "text": [
            "[ 3  7  7 16  4 24 11  1  0 15 23 18 19 22  2 12  0 16  9 24  5 23  8 19\n",
            " 11]\n",
            "Index of the minimum entry:8\n"
          ]
        }
      ]
    },
    {
      "cell_type": "code",
      "source": [
        "# # In-Built Argmin\n",
        "print(f'Index of the minimum entry: {np.argmin(A, axis=0)}')"
      ],
      "metadata": {
        "colab": {
          "base_uri": "https://localhost:8080/"
        },
        "id": "p0QwTXhTuNNz",
        "outputId": "74fef1cd-640b-434f-bd83-1288dadda573"
      },
      "execution_count": 86,
      "outputs": [
        {
          "output_type": "stream",
          "name": "stdout",
          "text": [
            "Index of the minimum entry: 8\n"
          ]
        }
      ]
    },
    {
      "cell_type": "code",
      "source": [],
      "metadata": {
        "id": "jkOTRv_MxtJh"
      },
      "execution_count": null,
      "outputs": []
    }
  ]
}